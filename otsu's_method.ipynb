{
  "nbformat": 4,
  "nbformat_minor": 0,
  "metadata": {
    "colab": {
      "provenance": [],
      "authorship_tag": "ABX9TyPM3pejgekZmH4pe6DD8R9H",
      "include_colab_link": true
    },
    "kernelspec": {
      "name": "python3",
      "display_name": "Python 3"
    },
    "language_info": {
      "name": "python"
    }
  },
  "cells": [
    {
      "cell_type": "markdown",
      "metadata": {
        "id": "view-in-github",
        "colab_type": "text"
      },
      "source": [
        "<a href=\"https://colab.research.google.com/github/meem76/Paper-Implementation---Automatic-Segmentation-of-Blood-Cells/blob/main/otsu's_method.ipynb\" target=\"_parent\"><img src=\"https://colab.research.google.com/assets/colab-badge.svg\" alt=\"Open In Colab\"/></a>"
      ]
    },
    {
      "cell_type": "code",
      "execution_count": null,
      "metadata": {
        "id": "0yIz1fGk-bP2"
      },
      "outputs": [],
      "source": [
        "import cv2\n",
        "import numpy as np\n",
        "\n",
        "def otsu_thresholding(image):\n",
        "\n",
        "\n",
        "    # Calculate the histogram\n",
        "    hist = cv2.calcHist([image], [0], None, [256], [0, 256])\n",
        "\n",
        "    # Calculate the total number of pixels\n",
        "    total_pixels = np.sum(hist)\n",
        "\n",
        "    # Initialize variables\n",
        "    sum_background = 0\n",
        "    sum_foreground = np.sum(hist * np.arange(256))\n",
        "    weight_background = 0\n",
        "    weight_foreground = np.sum(hist)\n",
        "    variance_max = 0\n",
        "\n",
        "    # Iterate over possible threshold values\n",
        "    for threshold in range(1, 256):\n",
        "        # Update variables\n",
        "        sum_background += hist[threshold - 1] * (threshold - 1)\n",
        "        sum_foreground -= hist[threshold - 1] * (threshold - 1)\n",
        "        weight_background += hist[threshold - 1]\n",
        "        weight_foreground -= hist[threshold - 1]\n",
        "\n",
        "        # Calculate mean and variance\n",
        "        mean_background = sum_background / weight_background\n",
        "        mean_foreground = sum_foreground / weight_foreground\n",
        "        variance_between = weight_background * weight_foreground * (mean_background - mean_foreground) ** 2\n",
        "\n",
        "        # Update maximum variance if necessary\n",
        "        if variance_between > variance_max:\n",
        "            variance_max = variance_between\n",
        "            threshold_opt = threshold\n",
        "\n",
        "    # Threshold the image\n",
        "    thresholded_image = cv2.threshold(image, threshold_opt, 255, cv2.THRESH_BINARY)[1]\n",
        "\n",
        "    return thresholded_image, threshold_opt"
      ]
    }
  ]
}